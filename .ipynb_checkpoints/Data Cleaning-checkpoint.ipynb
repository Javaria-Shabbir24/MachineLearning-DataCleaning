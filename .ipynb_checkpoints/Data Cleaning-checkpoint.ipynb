{
 "cells": [
  {
   "cell_type": "markdown",
   "id": "c41a72cd-5f93-481d-bf7e-ce0623d7121e",
   "metadata": {},
   "source": [
    "# Data Cleaning\n"
   ]
  },
  {
   "cell_type": "markdown",
   "id": "45e08bda-52c4-4ffe-9317-338e9ff96358",
   "metadata": {},
   "source": [
    "- **Add libraries**"
   ]
  },
  {
   "cell_type": "code",
   "execution_count": 21,
   "id": "e632f758-bdcb-4b84-a2d9-5c59e3d72862",
   "metadata": {},
   "outputs": [],
   "source": [
    "import seaborn as sns\n",
    "import matplotlib.pyplot as plt\n",
    "import pandas as pd"
   ]
  },
  {
   "cell_type": "markdown",
   "id": "15404541-35d3-44f0-82a5-a2227d470a87",
   "metadata": {},
   "source": [
    "- **reading the dataset**"
   ]
  },
  {
   "cell_type": "code",
   "execution_count": 6,
   "id": "8d3dfcb5-2c39-462b-b269-4ef3edd6c62a",
   "metadata": {},
   "outputs": [],
   "source": [
    "dataset= pd.read_excel(\"D:\\Study\\Machine Learning\\Data Cleaning\\dataset1.xlsx\")"
   ]
  },
  {
   "cell_type": "markdown",
   "id": "83d98a04-e3b4-4626-889c-9f4ff5c2ee9c",
   "metadata": {},
   "source": [
    "- **printing the dataset**"
   ]
  },
  {
   "cell_type": "code",
   "execution_count": 7,
   "id": "6891e13a-619d-4d1e-82de-d5cf6ebbd0cb",
   "metadata": {},
   "outputs": [
    {
     "name": "stdout",
     "output_type": "stream",
     "text": [
      "     type Urgency severity  priority\n",
      "0    Task     low    minor       4.0\n",
      "1    Task     low    minor       4.0\n",
      "2    Task     low    minor       NaN\n",
      "3    Task     low    minor       4.0\n",
      "4    Task     low    minor       4.0\n",
      "..    ...     ...      ...       ...\n",
      "485  Task     low    minor       4.0\n",
      "486  Task     low    minor       4.0\n",
      "487   Bug     low    minor       4.0\n",
      "488   Bug     low    minor       4.0\n",
      "489  Task     low    minor       4.0\n",
      "\n",
      "[490 rows x 4 columns]\n"
     ]
    }
   ],
   "source": [
    "print(dataset)"
   ]
  },
  {
   "cell_type": "markdown",
   "id": "666972e1-4b9f-486d-9480-f286e4046dc8",
   "metadata": {},
   "source": [
    "- **Printing the no of rows and columns**"
   ]
  },
  {
   "cell_type": "code",
   "execution_count": 9,
   "id": "16861893-f444-48d5-b4be-ca511f7df773",
   "metadata": {},
   "outputs": [
    {
     "data": {
      "text/plain": [
       "(490, 4)"
      ]
     },
     "execution_count": 9,
     "metadata": {},
     "output_type": "execute_result"
    }
   ],
   "source": [
    "dataset.shape"
   ]
  },
  {
   "cell_type": "markdown",
   "id": "9efbbe31-e4d2-4783-9476-2c9cc344e03b",
   "metadata": {},
   "source": [
    "- **checking where the missing values exists using**"
   ]
  },
  {
   "cell_type": "code",
   "execution_count": 12,
   "id": "2aed45f4-595a-4c14-a2a6-4320a8450ee5",
   "metadata": {},
   "outputs": [
    {
     "data": {
      "text/html": [
       "<div>\n",
       "<style scoped>\n",
       "    .dataframe tbody tr th:only-of-type {\n",
       "        vertical-align: middle;\n",
       "    }\n",
       "\n",
       "    .dataframe tbody tr th {\n",
       "        vertical-align: top;\n",
       "    }\n",
       "\n",
       "    .dataframe thead th {\n",
       "        text-align: right;\n",
       "    }\n",
       "</style>\n",
       "<table border=\"1\" class=\"dataframe\">\n",
       "  <thead>\n",
       "    <tr style=\"text-align: right;\">\n",
       "      <th></th>\n",
       "      <th>type</th>\n",
       "      <th>Urgency</th>\n",
       "      <th>severity</th>\n",
       "      <th>priority</th>\n",
       "    </tr>\n",
       "  </thead>\n",
       "  <tbody>\n",
       "    <tr>\n",
       "      <th>0</th>\n",
       "      <td>False</td>\n",
       "      <td>False</td>\n",
       "      <td>False</td>\n",
       "      <td>False</td>\n",
       "    </tr>\n",
       "    <tr>\n",
       "      <th>1</th>\n",
       "      <td>False</td>\n",
       "      <td>False</td>\n",
       "      <td>False</td>\n",
       "      <td>False</td>\n",
       "    </tr>\n",
       "    <tr>\n",
       "      <th>2</th>\n",
       "      <td>False</td>\n",
       "      <td>False</td>\n",
       "      <td>False</td>\n",
       "      <td>True</td>\n",
       "    </tr>\n",
       "    <tr>\n",
       "      <th>3</th>\n",
       "      <td>False</td>\n",
       "      <td>False</td>\n",
       "      <td>False</td>\n",
       "      <td>False</td>\n",
       "    </tr>\n",
       "    <tr>\n",
       "      <th>4</th>\n",
       "      <td>False</td>\n",
       "      <td>False</td>\n",
       "      <td>False</td>\n",
       "      <td>False</td>\n",
       "    </tr>\n",
       "    <tr>\n",
       "      <th>...</th>\n",
       "      <td>...</td>\n",
       "      <td>...</td>\n",
       "      <td>...</td>\n",
       "      <td>...</td>\n",
       "    </tr>\n",
       "    <tr>\n",
       "      <th>485</th>\n",
       "      <td>False</td>\n",
       "      <td>False</td>\n",
       "      <td>False</td>\n",
       "      <td>False</td>\n",
       "    </tr>\n",
       "    <tr>\n",
       "      <th>486</th>\n",
       "      <td>False</td>\n",
       "      <td>False</td>\n",
       "      <td>False</td>\n",
       "      <td>False</td>\n",
       "    </tr>\n",
       "    <tr>\n",
       "      <th>487</th>\n",
       "      <td>False</td>\n",
       "      <td>False</td>\n",
       "      <td>False</td>\n",
       "      <td>False</td>\n",
       "    </tr>\n",
       "    <tr>\n",
       "      <th>488</th>\n",
       "      <td>False</td>\n",
       "      <td>False</td>\n",
       "      <td>False</td>\n",
       "      <td>False</td>\n",
       "    </tr>\n",
       "    <tr>\n",
       "      <th>489</th>\n",
       "      <td>False</td>\n",
       "      <td>False</td>\n",
       "      <td>False</td>\n",
       "      <td>False</td>\n",
       "    </tr>\n",
       "  </tbody>\n",
       "</table>\n",
       "<p>490 rows × 4 columns</p>\n",
       "</div>"
      ],
      "text/plain": [
       "      type  Urgency  severity  priority\n",
       "0    False    False     False     False\n",
       "1    False    False     False     False\n",
       "2    False    False     False      True\n",
       "3    False    False     False     False\n",
       "4    False    False     False     False\n",
       "..     ...      ...       ...       ...\n",
       "485  False    False     False     False\n",
       "486  False    False     False     False\n",
       "487  False    False     False     False\n",
       "488  False    False     False     False\n",
       "489  False    False     False     False\n",
       "\n",
       "[490 rows x 4 columns]"
      ]
     },
     "execution_count": 12,
     "metadata": {},
     "output_type": "execute_result"
    }
   ],
   "source": [
    "dataset.isnull()"
   ]
  },
  {
   "cell_type": "markdown",
   "id": "4d5f31b2-da6f-4f4d-8751-653931099289",
   "metadata": {},
   "source": [
    "- **no of null values in each column**"
   ]
  },
  {
   "cell_type": "code",
   "execution_count": 13,
   "id": "0d4ddbbd-63c2-427c-8c67-5ed066aa3773",
   "metadata": {},
   "outputs": [
    {
     "data": {
      "text/plain": [
       "type        0\n",
       "Urgency     4\n",
       "severity    3\n",
       "priority    3\n",
       "dtype: int64"
      ]
     },
     "execution_count": 13,
     "metadata": {},
     "output_type": "execute_result"
    }
   ],
   "source": [
    "dataset.isnull().sum()"
   ]
  },
  {
   "cell_type": "markdown",
   "id": "26d5f8be-8c2e-4bfb-aa2b-7bd556d97b6e",
   "metadata": {},
   "source": [
    "- **total rows**"
   ]
  },
  {
   "cell_type": "code",
   "execution_count": 14,
   "id": "12c531e2-7360-4758-848f-7ab0db7dd69a",
   "metadata": {},
   "outputs": [
    {
     "data": {
      "text/plain": [
       "490"
      ]
     },
     "execution_count": 14,
     "metadata": {},
     "output_type": "execute_result"
    }
   ],
   "source": [
    "dataset.shape[0]"
   ]
  },
  {
   "cell_type": "markdown",
   "id": "767b124c-d2bc-42d8-81c9-ecf7629b9378",
   "metadata": {},
   "source": [
    "- **percentage of null values**"
   ]
  },
  {
   "cell_type": "code",
   "execution_count": 17,
   "id": "c600f516-e848-46c0-ba15-26d2976a3810",
   "metadata": {},
   "outputs": [
    {
     "data": {
      "text/plain": [
       "type        0.000000\n",
       "Urgency     0.816327\n",
       "severity    0.612245\n",
       "priority    0.612245\n",
       "dtype: float64"
      ]
     },
     "execution_count": 17,
     "metadata": {},
     "output_type": "execute_result"
    }
   ],
   "source": [
    "(dataset.isnull().sum()/dataset.shape[0])*100"
   ]
  },
  {
   "cell_type": "markdown",
   "id": "0f0a8339-c824-4032-914a-4f0c4d9cf069",
   "metadata": {},
   "source": [
    "- **overall missing values percentage**"
   ]
  },
  {
   "cell_type": "code",
   "execution_count": 19,
   "id": "ab233fe7-b5dc-4090-a2c2-48fa34420955",
   "metadata": {},
   "outputs": [
    {
     "data": {
      "text/plain": [
       "0.5102040816326531"
      ]
     },
     "execution_count": 19,
     "metadata": {},
     "output_type": "execute_result"
    }
   ],
   "source": [
    "(dataset.isnull().sum().sum()/(dataset.shape[0]*dataset.shape[1]))*100"
   ]
  },
  {
   "cell_type": "markdown",
   "id": "fdf3f583-01af-4553-b2a6-c9b787fe7a7a",
   "metadata": {},
   "source": [
    "- **graphical representation of null values**"
   ]
  },
  {
   "cell_type": "code",
   "execution_count": 24,
   "id": "0aa3ef1a-10ce-4be1-b468-cc75707e19d9",
   "metadata": {},
   "outputs": [
    {
     "data": {
      "image/png": "[encoded data removed]",
      "text/plain": [
       "<Figure size 640x480 with 2 Axes>"
      ]
     },
     "metadata": {},
     "output_type": "display_data"
    }
   ],
   "source": [
    "sns.heatmap(dataset.isnull())\n",
    "plt.title(\"null values heatmap\")\n",
    "plt.show()"
   ]
  },
  {
   "cell_type": "markdown",
   "id": "d1a7116f-80f5-4d47-8767-1969d4d6f736",
   "metadata": {},
   "source": [
    "- **removing the rows having missing values**"
   ]
  },
  {
   "cell_type": "code",
   "execution_count": 26,
   "id": "a2bed63d-0a4a-4a38-acff-4ecc1204869e",
   "metadata": {},
   "outputs": [],
   "source": [
    "dataset.dropna(inplace=True)"
   ]
  },
  {
   "cell_type": "code",
   "execution_count": 28,
   "id": "ead9cf52-34bf-4aac-876d-b403477e2a4a",
   "metadata": {},
   "outputs": [
    {
     "data": {
      "image/png": "[encoded data removed]",
      "text/plain": [
       "<Figure size 640x480 with 2 Axes>"
      ]
     },
     "metadata": {},
     "output_type": "display_data"
    }
   ],
   "source": [
    "sns.heatmap(dataset.isnull())\n",
    "plt.title(\"Heatmap after removal of missing data rows \")\n",
    "plt.show()"
   ]
  },
  {
   "cell_type": "code",
   "execution_count": null,
   "id": "a7784dfe-5756-4559-a758-d1105c7adc79",
   "metadata": {},
   "outputs": [],
   "source": []
  }
 ],
 "metadata": {
  "kernelspec": {
   "display_name": "Python 3 (ipykernel)",
   "language": "python",
   "name": "python3"
  },
  "language_info": {
   "codemirror_mode": {
    "name": "ipython",
    "version": 3
   },
   "file_extension": ".py",
   "mimetype": "text/x-python",
   "name": "python",
   "nbconvert_exporter": "python",
   "pygments_lexer": "ipython3",
   "version": "3.11.4"
  }
 },
 "nbformat": 4,
 "nbformat_minor": 5
}
