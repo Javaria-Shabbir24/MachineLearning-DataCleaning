{
 "cells": [
  {
   "cell_type": "markdown",
   "id": "7618ee9c-c512-4202-bb6a-685d9003852c",
   "metadata": {},
   "source": [
    "# Data Cleaning "
   ]
  },
  {
   "cell_type": "markdown",
   "id": "354b12aa-e1e7-4259-ba33-94a76e5ea635",
   "metadata": {},
   "source": [
    "## Filling the missing values"
   ]
  },
  {
   "cell_type": "code",
   "execution_count": 6,
   "id": "eabe14ed-0bf1-4ed4-834d-0c71063140b8",
   "metadata": {},
   "outputs": [],
   "source": [
    "import pandas as pd\n",
    "import seaborn as sns\n",
    "import matplotlib.pyplot as plt"
   ]
  },
  {
   "cell_type": "code",
   "execution_count": 7,
   "id": "4d20d257-3101-4e65-ada2-ac9426998113",
   "metadata": {},
   "outputs": [],
   "source": [
    "dataset= pd.read_excel(\"D:\\Study\\Machine Learning\\Data Cleaning\\dataset1.xlsx\")"
   ]
  },
  {
   "cell_type": "code",
   "execution_count": 8,
   "id": "d7eb4ddc-9846-466e-a3e2-98285b9f0f89",
   "metadata": {},
   "outputs": [
    {
     "name": "stdout",
     "output_type": "stream",
     "text": [
      "     type Urgency severity  priority\n",
      "0    Task     low    minor       4.0\n",
      "1    Task     NaN    minor       4.0\n",
      "2    Task     low    minor       NaN\n",
      "3    Task     low      NaN       4.0\n",
      "4    Task     NaN    minor       4.0\n",
      "..    ...     ...      ...       ...\n",
      "485  Task     low    minor       4.0\n",
      "486  Task     low    minor       4.0\n",
      "487   Bug     low    minor       4.0\n",
      "488   Bug     low    minor       4.0\n",
      "489  Task     low    minor       4.0\n",
      "\n",
      "[490 rows x 4 columns]\n"
     ]
    }
   ],
   "source": [
    "print(dataset)"
   ]
  },
  {
   "cell_type": "markdown",
   "id": "b82449e8-d53b-4a43-8ebc-5b64f515f8bb",
   "metadata": {},
   "source": [
    "## filling 10 at the place of missing values"
   ]
  },
  {
   "cell_type": "code",
   "execution_count": 11,
   "id": "adeae7ef-d361-4608-b00f-213b561e57db",
   "metadata": {},
   "outputs": [],
   "source": [
    "# dataset.fillna(10)"
   ]
  },
  {
   "cell_type": "markdown",
   "id": "3c2f9bfd-c294-459c-a513-677ce95730c9",
   "metadata": {},
   "source": [
    "## forward filling"
   ]
  },
  {
   "cell_type": "code",
   "execution_count": 14,
   "id": "d29bdcfe-aaa0-408a-bb05-a86bca027a09",
   "metadata": {},
   "outputs": [],
   "source": [
    "# dataset.fillna(method=\"ffill\")"
   ]
  },
  {
   "cell_type": "markdown",
   "id": "be5efcc3-03c0-4f27-975e-86d7bb3c798d",
   "metadata": {},
   "source": [
    "## forward filling along column"
   ]
  },
  {
   "cell_type": "code",
   "execution_count": 16,
   "id": "658f1b8b-39e8-4987-8dea-c7a20e8fcf20",
   "metadata": {},
   "outputs": [],
   "source": [
    "# dataset.fillna(method=\"ffill\", axis=1)"
   ]
  },
  {
   "cell_type": "markdown",
   "id": "2ab9b9df-31c2-4c03-b15f-1f61c4040bdc",
   "metadata": {},
   "source": [
    "## backward filling"
   ]
  },
  {
   "cell_type": "code",
   "execution_count": 20,
   "id": "a2154423-d687-4625-be0f-2d999de47378",
   "metadata": {},
   "outputs": [],
   "source": [
    "#dataset.fillna(method=\"bfill\")"
   ]
  },
  {
   "cell_type": "markdown",
   "id": "21270aa6-0bae-44ed-b217-7591a554ab11",
   "metadata": {},
   "source": [
    "## backward filling along column"
   ]
  },
  {
   "cell_type": "code",
   "execution_count": 22,
   "id": "f3c531ab-23f6-46bc-87f3-9143def62e1f",
   "metadata": {},
   "outputs": [],
   "source": [
    "#dataset.fillna(method=\"bfill\", axis=1)"
   ]
  },
  {
   "cell_type": "markdown",
   "id": "8cb6b782-4e9d-43bf-904a-642817c2bd16",
   "metadata": {},
   "source": [
    "## Mode"
   ]
  },
  {
   "cell_type": "markdown",
   "id": "4295c787-bfb7-45fe-9aef-8a1c8c2998a3",
   "metadata": {},
   "source": [
    "- filled the priority column using mode"
   ]
  },
  {
   "cell_type": "code",
   "execution_count": 29,
   "id": "d749a089-2616-4f02-a476-9c491e3c654e",
   "metadata": {},
   "outputs": [],
   "source": [
    "dataset[\"priority\"].fillna(dataset[\"priority\"].mode()[0],inplace=True)"
   ]
  },
  {
   "cell_type": "code",
   "execution_count": 39,
   "id": "1684bf77-93a0-4c26-8391-d1c95b32c5b2",
   "metadata": {},
   "outputs": [
    {
     "name": "stdout",
     "output_type": "stream",
     "text": [
      "     type Urgency severity  priority\n",
      "0    Task     low    minor       4.0\n",
      "1    Task     low    minor       4.0\n",
      "2    Task     low    minor       4.0\n",
      "3    Task     low    minor       4.0\n",
      "4    Task     low    minor       4.0\n",
      "..    ...     ...      ...       ...\n",
      "485  Task     low    minor       4.0\n",
      "486  Task     low    minor       4.0\n",
      "487   Bug     low    minor       4.0\n",
      "488   Bug     low    minor       4.0\n",
      "489  Task     low    minor       4.0\n",
      "\n",
      "[490 rows x 4 columns]\n"
     ]
    }
   ],
   "source": [
    "print(dataset)"
   ]
  },
  {
   "cell_type": "markdown",
   "id": "e5abbd6f-5727-447e-8a00-7071a1cb52eb",
   "metadata": {},
   "source": [
    "- filling all the columns one by one using mode"
   ]
  },
  {
   "cell_type": "code",
   "execution_count": 37,
   "id": "94544da8-5a1a-45ec-a992-96c33e7bfa70",
   "metadata": {},
   "outputs": [],
   "source": [
    "for i in dataset.select_dtypes(include=\"object\").columns:\n",
    "    dataset[i].fillna(dataset[i].mode()[0],inplace=True)"
   ]
  },
  {
   "cell_type": "code",
   "execution_count": 38,
   "id": "04403ce7-d033-4a3d-b56a-892f2e68f5ea",
   "metadata": {},
   "outputs": [
    {
     "name": "stdout",
     "output_type": "stream",
     "text": [
      "     type Urgency severity  priority\n",
      "0    Task     low    minor       4.0\n",
      "1    Task     low    minor       4.0\n",
      "2    Task     low    minor       4.0\n",
      "3    Task     low    minor       4.0\n",
      "4    Task     low    minor       4.0\n",
      "..    ...     ...      ...       ...\n",
      "485  Task     low    minor       4.0\n",
      "486  Task     low    minor       4.0\n",
      "487   Bug     low    minor       4.0\n",
      "488   Bug     low    minor       4.0\n",
      "489  Task     low    minor       4.0\n",
      "\n",
      "[490 rows x 4 columns]\n"
     ]
    }
   ],
   "source": [
    "print(dataset)"
   ]
  },
  {
   "cell_type": "code",
   "execution_count": 43,
   "id": "814b2304-790b-42f9-b359-06b72b28f7db",
   "metadata": {},
   "outputs": [
    {
     "data": {
      "text/plain": [
       "0"
      ]
     },
     "execution_count": 43,
     "metadata": {},
     "output_type": "execute_result"
    }
   ],
   "source": [
    "dataset.isnull().sum().sum()"
   ]
  },
  {
   "cell_type": "code",
   "execution_count": 47,
   "id": "17d5ea97-54c9-4835-8eee-ac9150978866",
   "metadata": {},
   "outputs": [
    {
     "data": {
      "text/plain": [
       "<Axes: >"
      ]
     },
     "execution_count": 47,
     "metadata": {},
     "output_type": "execute_result"
    },
    {
     "data": {
      "image/png": "[encoded data removed]",
      "text/plain": [
       "<Figure size 640x480 with 2 Axes>"
      ]
     },
     "metadata": {},
     "output_type": "display_data"
    }
   ],
   "source": [
    "sns.heatmap(dataset.isnull())\n",
    "plt.title(\"m"
   ]
  },
  {
   "cell_type": "code",
   "execution_count": null,
   "id": "6c744f0c-0893-4361-a764-9d54c0d6c233",
   "metadata": {},
   "outputs": [],
   "source": []
  }
 ],
 "metadata": {
  "kernelspec": {
   "display_name": "Python 3 (ipykernel)",
   "language": "python",
   "name": "python3"
  },
  "language_info": {
   "codemirror_mode": {
    "name": "ipython",
    "version": 3
   },
   "file_extension": ".py",
   "mimetype": "text/x-python",
   "name": "python",
   "nbconvert_exporter": "python",
   "pygments_lexer": "ipython3",
   "version": "3.11.4"
  }
 },
 "nbformat": 4,
 "nbformat_minor": 5
}
