{
 "cells": [
  {
   "cell_type": "markdown",
   "id": "7618ee9c-c512-4202-bb6a-685d9003852c",
   "metadata": {},
   "source": [
    "# Data Cleaning "
   ]
  },
  {
   "cell_type": "markdown",
   "id": "354b12aa-e1e7-4259-ba33-94a76e5ea635",
   "metadata": {},
   "source": [
    "## Filling the missing values"
   ]
  },
  {
   "cell_type": "code",
   "execution_count": 6,
   "id": "eabe14ed-0bf1-4ed4-834d-0c71063140b8",
   "metadata": {},
   "outputs": [],
   "source": [
    "import pandas as pd\n",
    "import seaborn as sns\n",
    "import matplotlib.pyplot as plt"
   ]
  },
  {
   "cell_type": "code",
   "execution_count": 7,
   "id": "4d20d257-3101-4e65-ada2-ac9426998113",
   "metadata": {},
   "outputs": [],
   "source": [
    "dataset= pd.read_excel(\"D:\\Study\\Machine Learning\\Data Cleaning\\dataset1.xlsx\")"
   ]
  },
  {
   "cell_type": "code",
   "execution_count": 8,
   "id": "d7eb4ddc-9846-466e-a3e2-98285b9f0f89",
   "metadata": {},
   "outputs": [
    {
     "name": "stdout",
     "output_type": "stream",
     "text": [
      "     type Urgency severity  priority\n",
      "0    Task     low    minor       4.0\n",
      "1    Task     NaN    minor       4.0\n",
      "2    Task     low    minor       NaN\n",
      "3    Task     low      NaN       4.0\n",
      "4    Task     NaN    minor       4.0\n",
      "..    ...     ...      ...       ...\n",
      "485  Task     low    minor       4.0\n",
      "486  Task     low    minor       4.0\n",
      "487   Bug     low    minor       4.0\n",
      "488   Bug     low    minor       4.0\n",
      "489  Task     low    minor       4.0\n",
      "\n",
      "[490 rows x 4 columns]\n"
     ]
    }
   ],
   "source": [
    "print(dataset)"
   ]
  },
  {
   "cell_type": "markdown",
   "id": "b82449e8-d53b-4a43-8ebc-5b64f515f8bb",
   "metadata": {},
   "source": [
    "## filling 10 at the place of missing values"
   ]
  },
  {
   "cell_type": "code",
   "execution_count": 11,
   "id": "adeae7ef-d361-4608-b00f-213b561e57db",
   "metadata": {},
   "outputs": [],
   "source": [
    "# dataset.fillna(10)"
   ]
  },
  {
   "cell_type": "markdown",
   "id": "3c2f9bfd-c294-459c-a513-677ce95730c9",
   "metadata": {},
   "source": [
    "## forward filling"
   ]
  },
  {
   "cell_type": "code",
   "execution_count": 14,
   "id": "d29bdcfe-aaa0-408a-bb05-a86bca027a09",
   "metadata": {},
   "outputs": [],
   "source": [
    "# dataset.fillna(method=\"ffill\")"
   ]
  },
  {
   "cell_type": "markdown",
   "id": "be5efcc3-03c0-4f27-975e-86d7bb3c798d",
   "metadata": {},
   "source": [
    "## forward filling along column"
   ]
  },
  {
   "cell_type": "code",
   "execution_count": 16,
   "id": "658f1b8b-39e8-4987-8dea-c7a20e8fcf20",
   "metadata": {},
   "outputs": [],
   "source": [
    "# dataset.fillna(method=\"ffill\", axis=1)"
   ]
  },
  {
   "cell_type": "markdown",
   "id": "2ab9b9df-31c2-4c03-b15f-1f61c4040bdc",
   "metadata": {},
   "source": [
    "## backward filling"
   ]
  },
  {
   "cell_type": "code",
   "execution_count": 20,
   "id": "a2154423-d687-4625-be0f-2d999de47378",
   "metadata": {},
   "outputs": [],
   "source": [
    "#dataset.fillna(method=\"bfill\")"
   ]
  },
  {
   "cell_type": "markdown",
   "id": "21270aa6-0bae-44ed-b217-7591a554ab11",
   "metadata": {},
   "source": [
    "## backward filling along column"
   ]
  },
  {
   "cell_type": "code",
   "execution_count": 22,
   "id": "f3c531ab-23f6-46bc-87f3-9143def62e1f",
   "metadata": {},
   "outputs": [],
   "source": [
    "#dataset.fillna(method=\"bfill\", axis=1)"
   ]
  },
  {
   "cell_type": "markdown",
   "id": "8cb6b782-4e9d-43bf-904a-642817c2bd16",
   "metadata": {},
   "source": [
    "## Mode"
   ]
  },
  {
   "cell_type": "code",
   "execution_count": 25,
   "id": "d749a089-2616-4f02-a476-9c491e3c654e",
   "metadata": {},
   "outputs": [
    {
     "data": {
      "text/html": [
       "<div>\n",
       "<style scoped>\n",
       "    .dataframe tbody tr th:only-of-type {\n",
       "        vertical-align: middle;\n",
       "    }\n",
       "\n",
       "    .dataframe tbody tr th {\n",
       "        vertical-align: top;\n",
       "    }\n",
       "\n",
       "    .dataframe thead th {\n",
       "        text-align: right;\n",
       "    }\n",
       "</style>\n",
       "<table border=\"1\" class=\"dataframe\">\n",
       "  <thead>\n",
       "    <tr style=\"text-align: right;\">\n",
       "      <th></th>\n",
       "      <th>type</th>\n",
       "      <th>Urgency</th>\n",
       "      <th>severity</th>\n",
       "      <th>priority</th>\n",
       "    </tr>\n",
       "  </thead>\n",
       "  <tbody>\n",
       "    <tr>\n",
       "      <th>0</th>\n",
       "      <td>Task</td>\n",
       "      <td>low</td>\n",
       "      <td>minor</td>\n",
       "      <td>4.0</td>\n",
       "    </tr>\n",
       "    <tr>\n",
       "      <th>1</th>\n",
       "      <td>Task</td>\n",
       "      <td>4.0</td>\n",
       "      <td>minor</td>\n",
       "      <td>4.0</td>\n",
       "    </tr>\n",
       "    <tr>\n",
       "      <th>2</th>\n",
       "      <td>Task</td>\n",
       "      <td>low</td>\n",
       "      <td>minor</td>\n",
       "      <td>4.0</td>\n",
       "    </tr>\n",
       "    <tr>\n",
       "      <th>3</th>\n",
       "      <td>Task</td>\n",
       "      <td>low</td>\n",
       "      <td>4.0</td>\n",
       "      <td>4.0</td>\n",
       "    </tr>\n",
       "    <tr>\n",
       "      <th>4</th>\n",
       "      <td>Task</td>\n",
       "      <td>4.0</td>\n",
       "      <td>minor</td>\n",
       "      <td>4.0</td>\n",
       "    </tr>\n",
       "    <tr>\n",
       "      <th>...</th>\n",
       "      <td>...</td>\n",
       "      <td>...</td>\n",
       "      <td>...</td>\n",
       "      <td>...</td>\n",
       "    </tr>\n",
       "    <tr>\n",
       "      <th>485</th>\n",
       "      <td>Task</td>\n",
       "      <td>low</td>\n",
       "      <td>minor</td>\n",
       "      <td>4.0</td>\n",
       "    </tr>\n",
       "    <tr>\n",
       "      <th>486</th>\n",
       "      <td>Task</td>\n",
       "      <td>low</td>\n",
       "      <td>minor</td>\n",
       "      <td>4.0</td>\n",
       "    </tr>\n",
       "    <tr>\n",
       "      <th>487</th>\n",
       "      <td>Bug</td>\n",
       "      <td>low</td>\n",
       "      <td>minor</td>\n",
       "      <td>4.0</td>\n",
       "    </tr>\n",
       "    <tr>\n",
       "      <th>488</th>\n",
       "      <td>Bug</td>\n",
       "      <td>low</td>\n",
       "      <td>minor</td>\n",
       "      <td>4.0</td>\n",
       "    </tr>\n",
       "    <tr>\n",
       "      <th>489</th>\n",
       "      <td>Task</td>\n",
       "      <td>low</td>\n",
       "      <td>minor</td>\n",
       "      <td>4.0</td>\n",
       "    </tr>\n",
       "  </tbody>\n",
       "</table>\n",
       "<p>490 rows × 4 columns</p>\n",
       "</div>"
      ],
      "text/plain": [
       "     type Urgency severity  priority\n",
       "0    Task     low    minor       4.0\n",
       "1    Task     4.0    minor       4.0\n",
       "2    Task     low    minor       4.0\n",
       "3    Task     low      4.0       4.0\n",
       "4    Task     4.0    minor       4.0\n",
       "..    ...     ...      ...       ...\n",
       "485  Task     low    minor       4.0\n",
       "486  Task     low    minor       4.0\n",
       "487   Bug     low    minor       4.0\n",
       "488   Bug     low    minor       4.0\n",
       "489  Task     low    minor       4.0\n",
       "\n",
       "[490 rows x 4 columns]"
      ]
     },
     "execution_count": 25,
     "metadata": {},
     "output_type": "execute_result"
    }
   ],
   "source": [
    "dataset.fillna(dataset.mode()[0])"
   ]
  },
  {
   "cell_type": "code",
   "execution_count": null,
   "id": "6dabb89f-08aa-48f9-b89e-d3882c4dd6a3",
   "metadata": {},
   "outputs": [],
   "source": []
  }
 ],
 "metadata": {
  "kernelspec": {
   "display_name": "Python 3 (ipykernel)",
   "language": "python",
   "name": "python3"
  },
  "language_info": {
   "codemirror_mode": {
    "name": "ipython",
    "version": 3
   },
   "file_extension": ".py",
   "mimetype": "text/x-python",
   "name": "python",
   "nbconvert_exporter": "python",
   "pygments_lexer": "ipython3",
   "version": "3.11.4"
  }
 },
 "nbformat": 4,
 "nbformat_minor": 5
}
